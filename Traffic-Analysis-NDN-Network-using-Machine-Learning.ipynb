{
  "cells": [
    {
      "cell_type": "markdown",
      "metadata": {
        "id": "HsMSVbI-oV3d"
      },
      "source": [
        "# K means "
      ]
    },
    {
      "cell_type": "markdown",
      "metadata": {
        "id": "yTGexEQhoV3l"
      },
      "source": [
        "## Preprocessing"
      ]
    },
    {
      "cell_type": "code",
      "execution_count": null,
      "metadata": {
        "id": "o3hFnm97oV3m",
        "colab": {
          "base_uri": "https://localhost:8080/"
        },
        "outputId": "d5f42943-02ad-4890-a333-6fb2324bf6ab"
      },
      "outputs": [
        {
          "output_type": "stream",
          "name": "stdout",
          "text": [
            "Mounted at /content/drive\n"
          ]
        }
      ],
      "source": [
        "import numpy as np # linear algebra\n",
        "import pandas as pd # data processing, CSV file I/O (e.g. pd.read_csv)\n",
        "import matplotlib.pyplot as plt\n",
        "from mpl_toolkits.mplot3d import Axes3D\n",
        "from sklearn.preprocessing import StandardScaler\n",
        "import seaborn as sns\n",
        "\n",
        "from google.colab import drive\n",
        "drive.mount('/content/drive')"
      ]
    },
    {
      "cell_type": "code",
      "execution_count": null,
      "metadata": {
        "colab": {
          "base_uri": "https://localhost:8080/",
          "height": 677
        },
        "id": "crEBZ69BoV3p",
        "outputId": "77eeb0d7-9e65-4259-c96b-233acc9ede25"
      },
      "outputs": [
        {
          "output_type": "execute_result",
          "data": {
            "text/plain": [
              "       Source  Destination  Length  \\\n",
              "0   192168118    192168117     187   \n",
              "1   192168118    192168117     140   \n",
              "2   192168119    192168115     187   \n",
              "3   192168119    192168115     140   \n",
              "4   192168119    192168117     187   \n",
              "5   192168119    192168117     140   \n",
              "6   192168115    192168119     282   \n",
              "7   192168115    192168119     140   \n",
              "8   192168116    192168117     187   \n",
              "9   192168116    192168117     140   \n",
              "10  192168116    192168119     187   \n",
              "11  192168116    192168119     140   \n",
              "12  192168116    192168115     187   \n",
              "13  192168116    192168115     140   \n",
              "14  192168117    192168118     187   \n",
              "15  192168119    192168115     187   \n",
              "16  192168117    192168118     140   \n",
              "17  192168119    192168115     140   \n",
              "18  192168119    192168116     187   \n",
              "19  192168119    192168116     140   \n",
              "\n",
              "                                                 Info  \n",
              "0   Data /ndn/Client1/%C1.Router/router/nlsr/INFO/...  \n",
              "1   Interest /ndn/Router1/%C1.Router/router/nlsr/I...  \n",
              "2   Data /ndn/Server3/%C1.Router/router/nlsr/INFO/...  \n",
              "3   Interest /ndn/Server2/%C1.Router/router/nlsr/I...  \n",
              "4   Data /ndn/Server3/%C1.Router/router/nlsr/INFO/...  \n",
              "5   Interest /ndn/Router1/%C1.Router/router/nlsr/I...  \n",
              "6   Data /ndn/Server2/%C1.Router/router/nlsr/INFO/...  \n",
              "7   Interest /ndn/Server3/%C1.Router/router/nlsr/I...  \n",
              "8   Data /ndn/Server1/%C1.Router/router/nlsr/INFO/...  \n",
              "9   Interest /ndn/Router1/%C1.Router/router/nlsr/I...  \n",
              "10  Data /ndn/Server1/%C1.Router/router/nlsr/INFO/...  \n",
              "11  Interest /ndn/Server3/%C1.Router/router/nlsr/I...  \n",
              "12  Data /ndn/Server1/%C1.Router/router/nlsr/INFO/...  \n",
              "13  Interest /ndn/Server2/%C1.Router/router/nlsr/I...  \n",
              "14  Data /ndn/Router1/%C1.Router/router/nlsr/INFO/...  \n",
              "15  Data /ndn/Server3/%C1.Router/router/nlsr/INFO/...  \n",
              "16  Interest /ndn/Client1/%C1.Router/router/nlsr/I...  \n",
              "17  Interest /ndn/Server2/%C1.Router/router/nlsr/I...  \n",
              "18  Data /ndn/Server3/%C1.Router/router/nlsr/INFO/...  \n",
              "19  Interest /ndn/Server1/%C1.Router/router/nlsr/I...  "
            ],
            "text/html": [
              "\n",
              "  <div id=\"df-5724bb21-34e6-4ede-b21d-314c9d7aee27\">\n",
              "    <div class=\"colab-df-container\">\n",
              "      <div>\n",
              "<style scoped>\n",
              "    .dataframe tbody tr th:only-of-type {\n",
              "        vertical-align: middle;\n",
              "    }\n",
              "\n",
              "    .dataframe tbody tr th {\n",
              "        vertical-align: top;\n",
              "    }\n",
              "\n",
              "    .dataframe thead th {\n",
              "        text-align: right;\n",
              "    }\n",
              "</style>\n",
              "<table border=\"1\" class=\"dataframe\">\n",
              "  <thead>\n",
              "    <tr style=\"text-align: right;\">\n",
              "      <th></th>\n",
              "      <th>Source</th>\n",
              "      <th>Destination</th>\n",
              "      <th>Length</th>\n",
              "      <th>Info</th>\n",
              "    </tr>\n",
              "  </thead>\n",
              "  <tbody>\n",
              "    <tr>\n",
              "      <th>0</th>\n",
              "      <td>192168118</td>\n",
              "      <td>192168117</td>\n",
              "      <td>187</td>\n",
              "      <td>Data /ndn/Client1/%C1.Router/router/nlsr/INFO/...</td>\n",
              "    </tr>\n",
              "    <tr>\n",
              "      <th>1</th>\n",
              "      <td>192168118</td>\n",
              "      <td>192168117</td>\n",
              "      <td>140</td>\n",
              "      <td>Interest /ndn/Router1/%C1.Router/router/nlsr/I...</td>\n",
              "    </tr>\n",
              "    <tr>\n",
              "      <th>2</th>\n",
              "      <td>192168119</td>\n",
              "      <td>192168115</td>\n",
              "      <td>187</td>\n",
              "      <td>Data /ndn/Server3/%C1.Router/router/nlsr/INFO/...</td>\n",
              "    </tr>\n",
              "    <tr>\n",
              "      <th>3</th>\n",
              "      <td>192168119</td>\n",
              "      <td>192168115</td>\n",
              "      <td>140</td>\n",
              "      <td>Interest /ndn/Server2/%C1.Router/router/nlsr/I...</td>\n",
              "    </tr>\n",
              "    <tr>\n",
              "      <th>4</th>\n",
              "      <td>192168119</td>\n",
              "      <td>192168117</td>\n",
              "      <td>187</td>\n",
              "      <td>Data /ndn/Server3/%C1.Router/router/nlsr/INFO/...</td>\n",
              "    </tr>\n",
              "    <tr>\n",
              "      <th>5</th>\n",
              "      <td>192168119</td>\n",
              "      <td>192168117</td>\n",
              "      <td>140</td>\n",
              "      <td>Interest /ndn/Router1/%C1.Router/router/nlsr/I...</td>\n",
              "    </tr>\n",
              "    <tr>\n",
              "      <th>6</th>\n",
              "      <td>192168115</td>\n",
              "      <td>192168119</td>\n",
              "      <td>282</td>\n",
              "      <td>Data /ndn/Server2/%C1.Router/router/nlsr/INFO/...</td>\n",
              "    </tr>\n",
              "    <tr>\n",
              "      <th>7</th>\n",
              "      <td>192168115</td>\n",
              "      <td>192168119</td>\n",
              "      <td>140</td>\n",
              "      <td>Interest /ndn/Server3/%C1.Router/router/nlsr/I...</td>\n",
              "    </tr>\n",
              "    <tr>\n",
              "      <th>8</th>\n",
              "      <td>192168116</td>\n",
              "      <td>192168117</td>\n",
              "      <td>187</td>\n",
              "      <td>Data /ndn/Server1/%C1.Router/router/nlsr/INFO/...</td>\n",
              "    </tr>\n",
              "    <tr>\n",
              "      <th>9</th>\n",
              "      <td>192168116</td>\n",
              "      <td>192168117</td>\n",
              "      <td>140</td>\n",
              "      <td>Interest /ndn/Router1/%C1.Router/router/nlsr/I...</td>\n",
              "    </tr>\n",
              "    <tr>\n",
              "      <th>10</th>\n",
              "      <td>192168116</td>\n",
              "      <td>192168119</td>\n",
              "      <td>187</td>\n",
              "      <td>Data /ndn/Server1/%C1.Router/router/nlsr/INFO/...</td>\n",
              "    </tr>\n",
              "    <tr>\n",
              "      <th>11</th>\n",
              "      <td>192168116</td>\n",
              "      <td>192168119</td>\n",
              "      <td>140</td>\n",
              "      <td>Interest /ndn/Server3/%C1.Router/router/nlsr/I...</td>\n",
              "    </tr>\n",
              "    <tr>\n",
              "      <th>12</th>\n",
              "      <td>192168116</td>\n",
              "      <td>192168115</td>\n",
              "      <td>187</td>\n",
              "      <td>Data /ndn/Server1/%C1.Router/router/nlsr/INFO/...</td>\n",
              "    </tr>\n",
              "    <tr>\n",
              "      <th>13</th>\n",
              "      <td>192168116</td>\n",
              "      <td>192168115</td>\n",
              "      <td>140</td>\n",
              "      <td>Interest /ndn/Server2/%C1.Router/router/nlsr/I...</td>\n",
              "    </tr>\n",
              "    <tr>\n",
              "      <th>14</th>\n",
              "      <td>192168117</td>\n",
              "      <td>192168118</td>\n",
              "      <td>187</td>\n",
              "      <td>Data /ndn/Router1/%C1.Router/router/nlsr/INFO/...</td>\n",
              "    </tr>\n",
              "    <tr>\n",
              "      <th>15</th>\n",
              "      <td>192168119</td>\n",
              "      <td>192168115</td>\n",
              "      <td>187</td>\n",
              "      <td>Data /ndn/Server3/%C1.Router/router/nlsr/INFO/...</td>\n",
              "    </tr>\n",
              "    <tr>\n",
              "      <th>16</th>\n",
              "      <td>192168117</td>\n",
              "      <td>192168118</td>\n",
              "      <td>140</td>\n",
              "      <td>Interest /ndn/Client1/%C1.Router/router/nlsr/I...</td>\n",
              "    </tr>\n",
              "    <tr>\n",
              "      <th>17</th>\n",
              "      <td>192168119</td>\n",
              "      <td>192168115</td>\n",
              "      <td>140</td>\n",
              "      <td>Interest /ndn/Server2/%C1.Router/router/nlsr/I...</td>\n",
              "    </tr>\n",
              "    <tr>\n",
              "      <th>18</th>\n",
              "      <td>192168119</td>\n",
              "      <td>192168116</td>\n",
              "      <td>187</td>\n",
              "      <td>Data /ndn/Server3/%C1.Router/router/nlsr/INFO/...</td>\n",
              "    </tr>\n",
              "    <tr>\n",
              "      <th>19</th>\n",
              "      <td>192168119</td>\n",
              "      <td>192168116</td>\n",
              "      <td>140</td>\n",
              "      <td>Interest /ndn/Server1/%C1.Router/router/nlsr/I...</td>\n",
              "    </tr>\n",
              "  </tbody>\n",
              "</table>\n",
              "</div>\n",
              "      <button class=\"colab-df-convert\" onclick=\"convertToInteractive('df-5724bb21-34e6-4ede-b21d-314c9d7aee27')\"\n",
              "              title=\"Convert this dataframe to an interactive table.\"\n",
              "              style=\"display:none;\">\n",
              "        \n",
              "  <svg xmlns=\"http://www.w3.org/2000/svg\" height=\"24px\"viewBox=\"0 0 24 24\"\n",
              "       width=\"24px\">\n",
              "    <path d=\"M0 0h24v24H0V0z\" fill=\"none\"/>\n",
              "    <path d=\"M18.56 5.44l.94 2.06.94-2.06 2.06-.94-2.06-.94-.94-2.06-.94 2.06-2.06.94zm-11 1L8.5 8.5l.94-2.06 2.06-.94-2.06-.94L8.5 2.5l-.94 2.06-2.06.94zm10 10l.94 2.06.94-2.06 2.06-.94-2.06-.94-.94-2.06-.94 2.06-2.06.94z\"/><path d=\"M17.41 7.96l-1.37-1.37c-.4-.4-.92-.59-1.43-.59-.52 0-1.04.2-1.43.59L10.3 9.45l-7.72 7.72c-.78.78-.78 2.05 0 2.83L4 21.41c.39.39.9.59 1.41.59.51 0 1.02-.2 1.41-.59l7.78-7.78 2.81-2.81c.8-.78.8-2.07 0-2.86zM5.41 20L4 18.59l7.72-7.72 1.47 1.35L5.41 20z\"/>\n",
              "  </svg>\n",
              "      </button>\n",
              "      \n",
              "  <style>\n",
              "    .colab-df-container {\n",
              "      display:flex;\n",
              "      flex-wrap:wrap;\n",
              "      gap: 12px;\n",
              "    }\n",
              "\n",
              "    .colab-df-convert {\n",
              "      background-color: #E8F0FE;\n",
              "      border: none;\n",
              "      border-radius: 50%;\n",
              "      cursor: pointer;\n",
              "      display: none;\n",
              "      fill: #1967D2;\n",
              "      height: 32px;\n",
              "      padding: 0 0 0 0;\n",
              "      width: 32px;\n",
              "    }\n",
              "\n",
              "    .colab-df-convert:hover {\n",
              "      background-color: #E2EBFA;\n",
              "      box-shadow: 0px 1px 2px rgba(60, 64, 67, 0.3), 0px 1px 3px 1px rgba(60, 64, 67, 0.15);\n",
              "      fill: #174EA6;\n",
              "    }\n",
              "\n",
              "    [theme=dark] .colab-df-convert {\n",
              "      background-color: #3B4455;\n",
              "      fill: #D2E3FC;\n",
              "    }\n",
              "\n",
              "    [theme=dark] .colab-df-convert:hover {\n",
              "      background-color: #434B5C;\n",
              "      box-shadow: 0px 1px 3px 1px rgba(0, 0, 0, 0.15);\n",
              "      filter: drop-shadow(0px 1px 2px rgba(0, 0, 0, 0.3));\n",
              "      fill: #FFFFFF;\n",
              "    }\n",
              "  </style>\n",
              "\n",
              "      <script>\n",
              "        const buttonEl =\n",
              "          document.querySelector('#df-5724bb21-34e6-4ede-b21d-314c9d7aee27 button.colab-df-convert');\n",
              "        buttonEl.style.display =\n",
              "          google.colab.kernel.accessAllowed ? 'block' : 'none';\n",
              "\n",
              "        async function convertToInteractive(key) {\n",
              "          const element = document.querySelector('#df-5724bb21-34e6-4ede-b21d-314c9d7aee27');\n",
              "          const dataTable =\n",
              "            await google.colab.kernel.invokeFunction('convertToInteractive',\n",
              "                                                     [key], {});\n",
              "          if (!dataTable) return;\n",
              "\n",
              "          const docLinkHtml = 'Like what you see? Visit the ' +\n",
              "            '<a target=\"_blank\" href=https://colab.research.google.com/notebooks/data_table.ipynb>data table notebook</a>'\n",
              "            + ' to learn more about interactive tables.';\n",
              "          element.innerHTML = '';\n",
              "          dataTable['output_type'] = 'display_data';\n",
              "          await google.colab.output.renderOutput(dataTable, element);\n",
              "          const docLink = document.createElement('div');\n",
              "          docLink.innerHTML = docLinkHtml;\n",
              "          element.appendChild(docLink);\n",
              "        }\n",
              "      </script>\n",
              "    </div>\n",
              "  </div>\n",
              "  "
            ]
          },
          "metadata": {},
          "execution_count": 2
        }
      ],
      "source": [
        "#df=pd.read_csv('/content/drive/My Drive/SKRIPSI FIX/Dataset/DATA FIX BANGET.csv')\n",
        "df=pd.read_csv('/content/drive/My Drive/SKRIPSI FIX/Dataset/DATA FINAL FIX BANGET.csv')\n",
        "df.head(20)"
      ]
    },
    {
      "cell_type": "code",
      "execution_count": null,
      "metadata": {
        "colab": {
          "base_uri": "https://localhost:8080/"
        },
        "id": "rgrHcWv6oV3q",
        "outputId": "62cf243c-6ec5-4589-c611-258e14f0c739"
      },
      "outputs": [
        {
          "output_type": "execute_result",
          "data": {
            "text/plain": [
              "Source          int64\n",
              "Destination     int64\n",
              "Length          int64\n",
              "Info           object\n",
              "dtype: object"
            ]
          },
          "metadata": {},
          "execution_count": 3
        }
      ],
      "source": [
        "df.dtypes"
      ]
    },
    {
      "cell_type": "code",
      "execution_count": null,
      "metadata": {
        "colab": {
          "base_uri": "https://localhost:8080/"
        },
        "id": "VA25IH1doV3r",
        "outputId": "0887a6c6-c6ce-4341-f7e1-02689ed05f61"
      },
      "outputs": [
        {
          "output_type": "execute_result",
          "data": {
            "text/plain": [
              "(5918, 4)"
            ]
          },
          "metadata": {},
          "execution_count": 4
        }
      ],
      "source": [
        "df.shape"
      ]
    },
    {
      "cell_type": "code",
      "execution_count": null,
      "metadata": {
        "colab": {
          "base_uri": "https://localhost:8080/"
        },
        "id": "XUktD9pNoV3x",
        "outputId": "3f9fabe4-6383-4bed-93b7-76ce9b5f78ed"
      },
      "outputs": [
        {
          "output_type": "execute_result",
          "data": {
            "text/plain": [
              "140    2950\n",
              "187    2332\n",
              "282     329\n",
              "283     147\n",
              "281     141\n",
              "64        6\n",
              "204       4\n",
              "60        3\n",
              "200       3\n",
              "203       2\n",
              "280       1\n",
              "Name: Length, dtype: int64"
            ]
          },
          "metadata": {},
          "execution_count": 5
        }
      ],
      "source": [
        "df_Length=df['Length'].value_counts()\n",
        "df_Length"
      ]
    },
    {
      "cell_type": "code",
      "execution_count": null,
      "metadata": {
        "colab": {
          "base_uri": "https://localhost:8080/"
        },
        "id": "ZUNQXrUmoV3y",
        "outputId": "d7702f9d-bd4c-44f0-d269-541cbf20288a"
      },
      "outputs": [
        {
          "output_type": "execute_result",
          "data": {
            "text/plain": [
              "(11,)"
            ]
          },
          "metadata": {},
          "execution_count": 6
        }
      ],
      "source": [
        "df_Length.shape"
      ]
    },
    {
      "cell_type": "markdown",
      "metadata": {
        "id": "5bAHrQjLZfaM"
      },
      "source": [
        "Data Vizualization"
      ]
    },
    {
      "cell_type": "code",
      "execution_count": null,
      "metadata": {
        "colab": {
          "base_uri": "https://localhost:8080/",
          "height": 442
        },
        "id": "A0i-K1HsoV31",
        "outputId": "b4d441a1-9115-4fe6-d4da-73f5cf9ad6cb"
      },
      "outputs": [
        {
          "output_type": "display_data",
          "data": {
            "text/plain": [
              "<Figure size 1080x504 with 1 Axes>"
            ],
            "image/png": "[encoded data removed]"
          },
          "metadata": {
            "needs_background": "light"
          }
        }
      ],
      "source": [
        "plt.figure(1 , figsize = (15 , 7))\n",
        "sns.countplot(y = 'Source' , data = df)\n",
        "plt.show()"
      ]
    },
    {
      "cell_type": "markdown",
      "metadata": {
        "id": "s0NR7wApoV32"
      },
      "source": [
        "## Preprocessing with K-means Clustering"
      ]
    },
    {
      "cell_type": "code",
      "execution_count": null,
      "metadata": {
        "id": "utOcovhpoV33"
      },
      "outputs": [],
      "source": [
        "from sklearn.preprocessing import StandardScaler,LabelEncoder\n",
        "from sklearn.cluster import KMeans\n",
        "from sklearn.metrics import accuracy_score, precision_score,confusion_matrix, classification_report\n",
        "from sklearn.model_selection import cross_val_score,KFold"
      ]
    },
    {
      "cell_type": "code",
      "execution_count": null,
      "metadata": {
        "colab": {
          "base_uri": "https://localhost:8080/"
        },
        "id": "3EkFj11gg23I",
        "outputId": "4b316f57-3123-4486-f50f-2afe93428318"
      },
      "outputs": [
        {
          "output_type": "execute_result",
          "data": {
            "text/plain": [
              "0         34\n",
              "1       2955\n",
              "2       2625\n",
              "3       2962\n",
              "4       2095\n",
              "        ... \n",
              "5913    2959\n",
              "5914    2904\n",
              "5915    2962\n",
              "5916    2047\n",
              "5917    2963\n",
              "Name: Info, Length: 5918, dtype: int64"
            ]
          },
          "metadata": {},
          "execution_count": 9
        }
      ],
      "source": [
        "encoder = LabelEncoder().fit(df['Info'])\n",
        "df['Info'] = encoder.fit_transform(df['Info'])\n",
        "df['Info']"
      ]
    },
    {
      "cell_type": "code",
      "execution_count": null,
      "metadata": {
        "id": "hNsfGRhLoV33"
      },
      "outputs": [],
      "source": [
        "X = df[['Length' , 'Info']]\n",
        "X = pd.DataFrame(StandardScaler().fit_transform(X),columns= ['Length' , 'Info'])\n",
        "#X['Info']= LabelEncoder().fit_transform(df['Info'])\n",
        "#X['Source']= LabelEncoder().fit_transform(df['Source'])"
      ]
    },
    {
      "cell_type": "code",
      "execution_count": null,
      "metadata": {
        "colab": {
          "base_uri": "https://localhost:8080/",
          "height": 279
        },
        "id": "iIB1fN9goV34",
        "outputId": "94429ed5-0495-4c2c-ec27-e0f99943408a"
      },
      "outputs": [
        {
          "output_type": "display_data",
          "data": {
            "text/plain": [
              "<Figure size 432x288 with 1 Axes>"
            ],
            "image/png": "[encoded data removed]"
          },
          "metadata": {
            "needs_background": "light"
          }
        }
      ],
      "source": [
        "distortions = []\n",
        "for i in range(1, 15):\n",
        "    km = KMeans(n_clusters=i, init='random',n_init=10, random_state=0)\n",
        "    km.fit(X)\n",
        "    distortions.append(km.inertia_)\n",
        "\n",
        "plt.plot(range(1, 15), distortions, marker='o')\n",
        "plt.xlabel('Number of clusters')\n",
        "plt.ylabel('Distortion')\n",
        "plt.show()"
      ]
    },
    {
      "cell_type": "code",
      "execution_count": null,
      "metadata": {
        "id": "aSlwghnfoV35"
      },
      "outputs": [],
      "source": [
        "km = KMeans(n_clusters= 8, init='random',n_init=10, random_state=0)\n",
        "km.fit(X)\n",
        "df['klabel'] = km.labels_"
      ]
    },
    {
      "cell_type": "code",
      "execution_count": null,
      "metadata": {
        "colab": {
          "base_uri": "https://localhost:8080/",
          "height": 677
        },
        "id": "KZHd_9TWwd_D",
        "outputId": "36b877be-7a99-4adb-a02f-1177f77f2274"
      },
      "outputs": [
        {
          "output_type": "execute_result",
          "data": {
            "text/plain": [
              "       Source  Destination  Length  Info  klabel\n",
              "0   192168118    192168117     187    34       1\n",
              "1   192168118    192168117     140  2955       7\n",
              "2   192168119    192168115     187  2625       3\n",
              "3   192168119    192168115     140  2962       7\n",
              "4   192168119    192168117     187  2095       3\n",
              "5   192168119    192168117     140  2957       7\n",
              "6   192168115    192168119     282  1693       2\n",
              "7   192168115    192168119     140  2966       7\n",
              "8   192168116    192168117     187   932       4\n",
              "9   192168116    192168117     140  2956       7\n",
              "10  192168116    192168119     187  1318       5\n",
              "11  192168116    192168119     140  2965       7\n",
              "12  192168116    192168115     187  1094       5\n",
              "13  192168116    192168115     140  2961       7\n",
              "14  192168117    192168118     187   401       0\n",
              "15  192168119    192168115     187  2548       3\n",
              "16  192168117    192168118     140  2954       7\n",
              "17  192168119    192168115     140  2962       7\n",
              "18  192168119    192168116     187  2339       3\n",
              "19  192168119    192168116     140  2960       7"
            ],
            "text/html": [
              "\n",
              "  <div id=\"df-7aa76b71-a257-4d86-993e-77055a3cc7c6\">\n",
              "    <div class=\"colab-df-container\">\n",
              "      <div>\n",
              "<style scoped>\n",
              "    .dataframe tbody tr th:only-of-type {\n",
              "        vertical-align: middle;\n",
              "    }\n",
              "\n",
              "    .dataframe tbody tr th {\n",
              "        vertical-align: top;\n",
              "    }\n",
              "\n",
              "    .dataframe thead th {\n",
              "        text-align: right;\n",
              "    }\n",
              "</style>\n",
              "<table border=\"1\" class=\"dataframe\">\n",
              "  <thead>\n",
              "    <tr style=\"text-align: right;\">\n",
              "      <th></th>\n",
              "      <th>Source</th>\n",
              "      <th>Destination</th>\n",
              "      <th>Length</th>\n",
              "      <th>Info</th>\n",
              "      <th>klabel</th>\n",
              "    </tr>\n",
              "  </thead>\n",
              "  <tbody>\n",
              "    <tr>\n",
              "      <th>0</th>\n",
              "      <td>192168118</td>\n",
              "      <td>192168117</td>\n",
              "      <td>187</td>\n",
              "      <td>34</td>\n",
              "      <td>1</td>\n",
              "    </tr>\n",
              "    <tr>\n",
              "      <th>1</th>\n",
              "      <td>192168118</td>\n",
              "      <td>192168117</td>\n",
              "      <td>140</td>\n",
              "      <td>2955</td>\n",
              "      <td>7</td>\n",
              "    </tr>\n",
              "    <tr>\n",
              "      <th>2</th>\n",
              "      <td>192168119</td>\n",
              "      <td>192168115</td>\n",
              "      <td>187</td>\n",
              "      <td>2625</td>\n",
              "      <td>3</td>\n",
              "    </tr>\n",
              "    <tr>\n",
              "      <th>3</th>\n",
              "      <td>192168119</td>\n",
              "      <td>192168115</td>\n",
              "      <td>140</td>\n",
              "      <td>2962</td>\n",
              "      <td>7</td>\n",
              "    </tr>\n",
              "    <tr>\n",
              "      <th>4</th>\n",
              "      <td>192168119</td>\n",
              "      <td>192168117</td>\n",
              "      <td>187</td>\n",
              "      <td>2095</td>\n",
              "      <td>3</td>\n",
              "    </tr>\n",
              "    <tr>\n",
              "      <th>5</th>\n",
              "      <td>192168119</td>\n",
              "      <td>192168117</td>\n",
              "      <td>140</td>\n",
              "      <td>2957</td>\n",
              "      <td>7</td>\n",
              "    </tr>\n",
              "    <tr>\n",
              "      <th>6</th>\n",
              "      <td>192168115</td>\n",
              "      <td>192168119</td>\n",
              "      <td>282</td>\n",
              "      <td>1693</td>\n",
              "      <td>2</td>\n",
              "    </tr>\n",
              "    <tr>\n",
              "      <th>7</th>\n",
              "      <td>192168115</td>\n",
              "      <td>192168119</td>\n",
              "      <td>140</td>\n",
              "      <td>2966</td>\n",
              "      <td>7</td>\n",
              "    </tr>\n",
              "    <tr>\n",
              "      <th>8</th>\n",
              "      <td>192168116</td>\n",
              "      <td>192168117</td>\n",
              "      <td>187</td>\n",
              "      <td>932</td>\n",
              "      <td>4</td>\n",
              "    </tr>\n",
              "    <tr>\n",
              "      <th>9</th>\n",
              "      <td>192168116</td>\n",
              "      <td>192168117</td>\n",
              "      <td>140</td>\n",
              "      <td>2956</td>\n",
              "      <td>7</td>\n",
              "    </tr>\n",
              "    <tr>\n",
              "      <th>10</th>\n",
              "      <td>192168116</td>\n",
              "      <td>192168119</td>\n",
              "      <td>187</td>\n",
              "      <td>1318</td>\n",
              "      <td>5</td>\n",
              "    </tr>\n",
              "    <tr>\n",
              "      <th>11</th>\n",
              "      <td>192168116</td>\n",
              "      <td>192168119</td>\n",
              "      <td>140</td>\n",
              "      <td>2965</td>\n",
              "      <td>7</td>\n",
              "    </tr>\n",
              "    <tr>\n",
              "      <th>12</th>\n",
              "      <td>192168116</td>\n",
              "      <td>192168115</td>\n",
              "      <td>187</td>\n",
              "      <td>1094</td>\n",
              "      <td>5</td>\n",
              "    </tr>\n",
              "    <tr>\n",
              "      <th>13</th>\n",
              "      <td>192168116</td>\n",
              "      <td>192168115</td>\n",
              "      <td>140</td>\n",
              "      <td>2961</td>\n",
              "      <td>7</td>\n",
              "    </tr>\n",
              "    <tr>\n",
              "      <th>14</th>\n",
              "      <td>192168117</td>\n",
              "      <td>192168118</td>\n",
              "      <td>187</td>\n",
              "      <td>401</td>\n",
              "      <td>0</td>\n",
              "    </tr>\n",
              "    <tr>\n",
              "      <th>15</th>\n",
              "      <td>192168119</td>\n",
              "      <td>192168115</td>\n",
              "      <td>187</td>\n",
              "      <td>2548</td>\n",
              "      <td>3</td>\n",
              "    </tr>\n",
              "    <tr>\n",
              "      <th>16</th>\n",
              "      <td>192168117</td>\n",
              "      <td>192168118</td>\n",
              "      <td>140</td>\n",
              "      <td>2954</td>\n",
              "      <td>7</td>\n",
              "    </tr>\n",
              "    <tr>\n",
              "      <th>17</th>\n",
              "      <td>192168119</td>\n",
              "      <td>192168115</td>\n",
              "      <td>140</td>\n",
              "      <td>2962</td>\n",
              "      <td>7</td>\n",
              "    </tr>\n",
              "    <tr>\n",
              "      <th>18</th>\n",
              "      <td>192168119</td>\n",
              "      <td>192168116</td>\n",
              "      <td>187</td>\n",
              "      <td>2339</td>\n",
              "      <td>3</td>\n",
              "    </tr>\n",
              "    <tr>\n",
              "      <th>19</th>\n",
              "      <td>192168119</td>\n",
              "      <td>192168116</td>\n",
              "      <td>140</td>\n",
              "      <td>2960</td>\n",
              "      <td>7</td>\n",
              "    </tr>\n",
              "  </tbody>\n",
              "</table>\n",
              "</div>\n",
              "      <button class=\"colab-df-convert\" onclick=\"convertToInteractive('df-7aa76b71-a257-4d86-993e-77055a3cc7c6')\"\n",
              "              title=\"Convert this dataframe to an interactive table.\"\n",
              "              style=\"display:none;\">\n",
              "        \n",
              "  <svg xmlns=\"http://www.w3.org/2000/svg\" height=\"24px\"viewBox=\"0 0 24 24\"\n",
              "       width=\"24px\">\n",
              "    <path d=\"M0 0h24v24H0V0z\" fill=\"none\"/>\n",
              "    <path d=\"M18.56 5.44l.94 2.06.94-2.06 2.06-.94-2.06-.94-.94-2.06-.94 2.06-2.06.94zm-11 1L8.5 8.5l.94-2.06 2.06-.94-2.06-.94L8.5 2.5l-.94 2.06-2.06.94zm10 10l.94 2.06.94-2.06 2.06-.94-2.06-.94-.94-2.06-.94 2.06-2.06.94z\"/><path d=\"M17.41 7.96l-1.37-1.37c-.4-.4-.92-.59-1.43-.59-.52 0-1.04.2-1.43.59L10.3 9.45l-7.72 7.72c-.78.78-.78 2.05 0 2.83L4 21.41c.39.39.9.59 1.41.59.51 0 1.02-.2 1.41-.59l7.78-7.78 2.81-2.81c.8-.78.8-2.07 0-2.86zM5.41 20L4 18.59l7.72-7.72 1.47 1.35L5.41 20z\"/>\n",
              "  </svg>\n",
              "      </button>\n",
              "      \n",
              "  <style>\n",
              "    .colab-df-container {\n",
              "      display:flex;\n",
              "      flex-wrap:wrap;\n",
              "      gap: 12px;\n",
              "    }\n",
              "\n",
              "    .colab-df-convert {\n",
              "      background-color: #E8F0FE;\n",
              "      border: none;\n",
              "      border-radius: 50%;\n",
              "      cursor: pointer;\n",
              "      display: none;\n",
              "      fill: #1967D2;\n",
              "      height: 32px;\n",
              "      padding: 0 0 0 0;\n",
              "      width: 32px;\n",
              "    }\n",
              "\n",
              "    .colab-df-convert:hover {\n",
              "      background-color: #E2EBFA;\n",
              "      box-shadow: 0px 1px 2px rgba(60, 64, 67, 0.3), 0px 1px 3px 1px rgba(60, 64, 67, 0.15);\n",
              "      fill: #174EA6;\n",
              "    }\n",
              "\n",
              "    [theme=dark] .colab-df-convert {\n",
              "      background-color: #3B4455;\n",
              "      fill: #D2E3FC;\n",
              "    }\n",
              "\n",
              "    [theme=dark] .colab-df-convert:hover {\n",
              "      background-color: #434B5C;\n",
              "      box-shadow: 0px 1px 3px 1px rgba(0, 0, 0, 0.15);\n",
              "      filter: drop-shadow(0px 1px 2px rgba(0, 0, 0, 0.3));\n",
              "      fill: #FFFFFF;\n",
              "    }\n",
              "  </style>\n",
              "\n",
              "      <script>\n",
              "        const buttonEl =\n",
              "          document.querySelector('#df-7aa76b71-a257-4d86-993e-77055a3cc7c6 button.colab-df-convert');\n",
              "        buttonEl.style.display =\n",
              "          google.colab.kernel.accessAllowed ? 'block' : 'none';\n",
              "\n",
              "        async function convertToInteractive(key) {\n",
              "          const element = document.querySelector('#df-7aa76b71-a257-4d86-993e-77055a3cc7c6');\n",
              "          const dataTable =\n",
              "            await google.colab.kernel.invokeFunction('convertToInteractive',\n",
              "                                                     [key], {});\n",
              "          if (!dataTable) return;\n",
              "\n",
              "          const docLinkHtml = 'Like what you see? Visit the ' +\n",
              "            '<a target=\"_blank\" href=https://colab.research.google.com/notebooks/data_table.ipynb>data table notebook</a>'\n",
              "            + ' to learn more about interactive tables.';\n",
              "          element.innerHTML = '';\n",
              "          dataTable['output_type'] = 'display_data';\n",
              "          await google.colab.output.renderOutput(dataTable, element);\n",
              "          const docLink = document.createElement('div');\n",
              "          docLink.innerHTML = docLinkHtml;\n",
              "          element.appendChild(docLink);\n",
              "        }\n",
              "      </script>\n",
              "    </div>\n",
              "  </div>\n",
              "  "
            ]
          },
          "metadata": {},
          "execution_count": 13
        }
      ],
      "source": [
        "df.head(20)"
      ]
    },
    {
      "cell_type": "code",
      "execution_count": null,
      "metadata": {
        "colab": {
          "base_uri": "https://localhost:8080/"
        },
        "id": "ZjPyToBfvgov",
        "outputId": "06220afb-d964-4e1d-dddb-2ddd666954ea"
      },
      "outputs": [
        {
          "output_type": "execute_result",
          "data": {
            "text/plain": [
              "(5918, 5)"
            ]
          },
          "metadata": {},
          "execution_count": 14
        }
      ],
      "source": [
        "df.shape"
      ]
    },
    {
      "cell_type": "code",
      "execution_count": null,
      "metadata": {
        "colab": {
          "base_uri": "https://localhost:8080/"
        },
        "id": "V9f6cLPCk_FW",
        "outputId": "6c659d55-0098-43a0-9406-33c3d0a72eb0"
      },
      "outputs": [
        {
          "output_type": "execute_result",
          "data": {
            "text/plain": [
              "7    2950\n",
              "3     859\n",
              "2     618\n",
              "5     394\n",
              "4     380\n",
              "0     361\n",
              "1     347\n",
              "6       9\n",
              "Name: klabel, dtype: int64"
            ]
          },
          "metadata": {},
          "execution_count": 15
        }
      ],
      "source": [
        "df['klabel'].value_counts()"
      ]
    },
    {
      "cell_type": "code",
      "execution_count": null,
      "metadata": {
        "colab": {
          "base_uri": "https://localhost:8080/"
        },
        "id": "0tj8Vey4jNsR",
        "outputId": "a6225acc-4596-4079-e55a-2d6da0f1d86f"
      },
      "outputs": [
        {
          "output_type": "execute_result",
          "data": {
            "text/plain": [
              "array([1, 7, 3, ..., 7, 2, 7], dtype=int32)"
            ]
          },
          "metadata": {},
          "execution_count": 16
        }
      ],
      "source": [
        "km.labels_"
      ]
    },
    {
      "cell_type": "code",
      "execution_count": null,
      "metadata": {
        "colab": {
          "base_uri": "https://localhost:8080/",
          "height": 410
        },
        "id": "PKElIdPFjkLF",
        "outputId": "f8c8db09-c05e-44e2-8e8d-3e6281e8833f"
      },
      "outputs": [
        {
          "output_type": "execute_result",
          "data": {
            "text/plain": [
              "<matplotlib.collections.PathCollection at 0x7febf0cc08d0>"
            ]
          },
          "metadata": {},
          "execution_count": 17
        },
        {
          "output_type": "display_data",
          "data": {
            "text/plain": [
              "<Figure size 576x432 with 1 Axes>"
            ],
            "image/png": "[encoded data removed]"
          },
          "metadata": {
            "needs_background": "light"
          }
        }
      ],
      "source": [
        "x_ = df['Length']\n",
        "y_ = df['klabel']\n",
        "label = df['klabel']\n",
        "plt.figure(1 , figsize = (8 , 6) )\n",
        "plt.xlabel('Length Data', size=16)\n",
        "plt.ylabel('klabel Data', size=16)\n",
        "plt.scatter(x_,y_, c = label, cmap='plasma')"
      ]
    },
    {
      "cell_type": "code",
      "execution_count": null,
      "metadata": {
        "colab": {
          "base_uri": "https://localhost:8080/",
          "height": 410
        },
        "id": "GiWAjmlwrArX",
        "outputId": "3be04006-c551-4cbd-810b-a9b2558c66a0"
      },
      "outputs": [
        {
          "output_type": "execute_result",
          "data": {
            "text/plain": [
              "<matplotlib.collections.PathCollection at 0x7febf0c40990>"
            ]
          },
          "metadata": {},
          "execution_count": 18
        },
        {
          "output_type": "display_data",
          "data": {
            "text/plain": [
              "<Figure size 576x432 with 1 Axes>"
            ],
            "image/png": "[encoded data removed]"
          },
          "metadata": {
            "needs_background": "light"
          }
        }
      ],
      "source": [
        "x_ = df['Info']\n",
        "y_ = df['klabel']\n",
        "label = df['klabel']\n",
        "plt.figure(1 , figsize = (8 , 6) )\n",
        "plt.xlabel('Info Data', size=16)\n",
        "plt.ylabel('klabel Data', size=16)\n",
        "plt.scatter(x_,y_, c = label, cmap='plasma')"
      ]
    },
    {
      "cell_type": "code",
      "execution_count": null,
      "metadata": {
        "colab": {
          "base_uri": "https://localhost:8080/",
          "height": 410
        },
        "id": "ab-VJMwt5Lk2",
        "outputId": "db86ee2b-78e0-4e5f-fb25-4c64abf63b54"
      },
      "outputs": [
        {
          "output_type": "execute_result",
          "data": {
            "text/plain": [
              "<matplotlib.collections.PathCollection at 0x7febf0c184d0>"
            ]
          },
          "metadata": {},
          "execution_count": 19
        },
        {
          "output_type": "display_data",
          "data": {
            "text/plain": [
              "<Figure size 576x432 with 1 Axes>"
            ],
            "image/png": "[encoded data removed]"
          },
          "metadata": {
            "needs_background": "light"
          }
        }
      ],
      "source": [
        "x_ = df['Length']\n",
        "y_ = df['Info']\n",
        "label = df['klabel']\n",
        "plt.figure(1 , figsize = (8 , 6) )\n",
        "plt.xlabel('Length Data', size=16)\n",
        "plt.ylabel('Info Data', size=16)\n",
        "plt.scatter(x_,y_, c = label, cmap='plasma')"
      ]
    },
    {
      "cell_type": "markdown",
      "metadata": {
        "id": "tLHzQcyjDXcI"
      },
      "source": [
        "## **EDA**"
      ]
    },
    {
      "cell_type": "code",
      "execution_count": null,
      "metadata": {
        "colab": {
          "base_uri": "https://localhost:8080/",
          "height": 363
        },
        "id": "LjK9Z1IHC5Kf",
        "outputId": "8c9042ce-c92e-485a-a257-246bdc2cc5b1"
      },
      "outputs": [
        {
          "output_type": "execute_result",
          "data": {
            "text/plain": [
              "      Source  Destination  Length  Info  klabel\n",
              "0  192168118    192168117     187    34       1\n",
              "1  192168118    192168117     140  2955       7\n",
              "2  192168119    192168115     187  2625       3\n",
              "3  192168119    192168115     140  2962       7\n",
              "4  192168119    192168117     187  2095       3\n",
              "5  192168119    192168117     140  2957       7\n",
              "6  192168115    192168119     282  1693       2\n",
              "7  192168115    192168119     140  2966       7\n",
              "8  192168116    192168117     187   932       4\n",
              "9  192168116    192168117     140  2956       7"
            ],
            "text/html": [
              "\n",
              "  <div id=\"df-df84f8c8-ee3b-4e31-be58-033593275609\">\n",
              "    <div class=\"colab-df-container\">\n",
              "      <div>\n",
              "<style scoped>\n",
              "    .dataframe tbody tr th:only-of-type {\n",
              "        vertical-align: middle;\n",
              "    }\n",
              "\n",
              "    .dataframe tbody tr th {\n",
              "        vertical-align: top;\n",
              "    }\n",
              "\n",
              "    .dataframe thead th {\n",
              "        text-align: right;\n",
              "    }\n",
              "</style>\n",
              "<table border=\"1\" class=\"dataframe\">\n",
              "  <thead>\n",
              "    <tr style=\"text-align: right;\">\n",
              "      <th></th>\n",
              "      <th>Source</th>\n",
              "      <th>Destination</th>\n",
              "      <th>Length</th>\n",
              "      <th>Info</th>\n",
              "      <th>klabel</th>\n",
              "    </tr>\n",
              "  </thead>\n",
              "  <tbody>\n",
              "    <tr>\n",
              "      <th>0</th>\n",
              "      <td>192168118</td>\n",
              "      <td>192168117</td>\n",
              "      <td>187</td>\n",
              "      <td>34</td>\n",
              "      <td>1</td>\n",
              "    </tr>\n",
              "    <tr>\n",
              "      <th>1</th>\n",
              "      <td>192168118</td>\n",
              "      <td>192168117</td>\n",
              "      <td>140</td>\n",
              "      <td>2955</td>\n",
              "      <td>7</td>\n",
              "    </tr>\n",
              "    <tr>\n",
              "      <th>2</th>\n",
              "      <td>192168119</td>\n",
              "      <td>192168115</td>\n",
              "      <td>187</td>\n",
              "      <td>2625</td>\n",
              "      <td>3</td>\n",
              "    </tr>\n",
              "    <tr>\n",
              "      <th>3</th>\n",
              "      <td>192168119</td>\n",
              "      <td>192168115</td>\n",
              "      <td>140</td>\n",
              "      <td>2962</td>\n",
              "      <td>7</td>\n",
              "    </tr>\n",
              "    <tr>\n",
              "      <th>4</th>\n",
              "      <td>192168119</td>\n",
              "      <td>192168117</td>\n",
              "      <td>187</td>\n",
              "      <td>2095</td>\n",
              "      <td>3</td>\n",
              "    </tr>\n",
              "    <tr>\n",
              "      <th>5</th>\n",
              "      <td>192168119</td>\n",
              "      <td>192168117</td>\n",
              "      <td>140</td>\n",
              "      <td>2957</td>\n",
              "      <td>7</td>\n",
              "    </tr>\n",
              "    <tr>\n",
              "      <th>6</th>\n",
              "      <td>192168115</td>\n",
              "      <td>192168119</td>\n",
              "      <td>282</td>\n",
              "      <td>1693</td>\n",
              "      <td>2</td>\n",
              "    </tr>\n",
              "    <tr>\n",
              "      <th>7</th>\n",
              "      <td>192168115</td>\n",
              "      <td>192168119</td>\n",
              "      <td>140</td>\n",
              "      <td>2966</td>\n",
              "      <td>7</td>\n",
              "    </tr>\n",
              "    <tr>\n",
              "      <th>8</th>\n",
              "      <td>192168116</td>\n",
              "      <td>192168117</td>\n",
              "      <td>187</td>\n",
              "      <td>932</td>\n",
              "      <td>4</td>\n",
              "    </tr>\n",
              "    <tr>\n",
              "      <th>9</th>\n",
              "      <td>192168116</td>\n",
              "      <td>192168117</td>\n",
              "      <td>140</td>\n",
              "      <td>2956</td>\n",
              "      <td>7</td>\n",
              "    </tr>\n",
              "  </tbody>\n",
              "</table>\n",
              "</div>\n",
              "      <button class=\"colab-df-convert\" onclick=\"convertToInteractive('df-df84f8c8-ee3b-4e31-be58-033593275609')\"\n",
              "              title=\"Convert this dataframe to an interactive table.\"\n",
              "              style=\"display:none;\">\n",
              "        \n",
              "  <svg xmlns=\"http://www.w3.org/2000/svg\" height=\"24px\"viewBox=\"0 0 24 24\"\n",
              "       width=\"24px\">\n",
              "    <path d=\"M0 0h24v24H0V0z\" fill=\"none\"/>\n",
              "    <path d=\"M18.56 5.44l.94 2.06.94-2.06 2.06-.94-2.06-.94-.94-2.06-.94 2.06-2.06.94zm-11 1L8.5 8.5l.94-2.06 2.06-.94-2.06-.94L8.5 2.5l-.94 2.06-2.06.94zm10 10l.94 2.06.94-2.06 2.06-.94-2.06-.94-.94-2.06-.94 2.06-2.06.94z\"/><path d=\"M17.41 7.96l-1.37-1.37c-.4-.4-.92-.59-1.43-.59-.52 0-1.04.2-1.43.59L10.3 9.45l-7.72 7.72c-.78.78-.78 2.05 0 2.83L4 21.41c.39.39.9.59 1.41.59.51 0 1.02-.2 1.41-.59l7.78-7.78 2.81-2.81c.8-.78.8-2.07 0-2.86zM5.41 20L4 18.59l7.72-7.72 1.47 1.35L5.41 20z\"/>\n",
              "  </svg>\n",
              "      </button>\n",
              "      \n",
              "  <style>\n",
              "    .colab-df-container {\n",
              "      display:flex;\n",
              "      flex-wrap:wrap;\n",
              "      gap: 12px;\n",
              "    }\n",
              "\n",
              "    .colab-df-convert {\n",
              "      background-color: #E8F0FE;\n",
              "      border: none;\n",
              "      border-radius: 50%;\n",
              "      cursor: pointer;\n",
              "      display: none;\n",
              "      fill: #1967D2;\n",
              "      height: 32px;\n",
              "      padding: 0 0 0 0;\n",
              "      width: 32px;\n",
              "    }\n",
              "\n",
              "    .colab-df-convert:hover {\n",
              "      background-color: #E2EBFA;\n",
              "      box-shadow: 0px 1px 2px rgba(60, 64, 67, 0.3), 0px 1px 3px 1px rgba(60, 64, 67, 0.15);\n",
              "      fill: #174EA6;\n",
              "    }\n",
              "\n",
              "    [theme=dark] .colab-df-convert {\n",
              "      background-color: #3B4455;\n",
              "      fill: #D2E3FC;\n",
              "    }\n",
              "\n",
              "    [theme=dark] .colab-df-convert:hover {\n",
              "      background-color: #434B5C;\n",
              "      box-shadow: 0px 1px 3px 1px rgba(0, 0, 0, 0.15);\n",
              "      filter: drop-shadow(0px 1px 2px rgba(0, 0, 0, 0.3));\n",
              "      fill: #FFFFFF;\n",
              "    }\n",
              "  </style>\n",
              "\n",
              "      <script>\n",
              "        const buttonEl =\n",
              "          document.querySelector('#df-df84f8c8-ee3b-4e31-be58-033593275609 button.colab-df-convert');\n",
              "        buttonEl.style.display =\n",
              "          google.colab.kernel.accessAllowed ? 'block' : 'none';\n",
              "\n",
              "        async function convertToInteractive(key) {\n",
              "          const element = document.querySelector('#df-df84f8c8-ee3b-4e31-be58-033593275609');\n",
              "          const dataTable =\n",
              "            await google.colab.kernel.invokeFunction('convertToInteractive',\n",
              "                                                     [key], {});\n",
              "          if (!dataTable) return;\n",
              "\n",
              "          const docLinkHtml = 'Like what you see? Visit the ' +\n",
              "            '<a target=\"_blank\" href=https://colab.research.google.com/notebooks/data_table.ipynb>data table notebook</a>'\n",
              "            + ' to learn more about interactive tables.';\n",
              "          element.innerHTML = '';\n",
              "          dataTable['output_type'] = 'display_data';\n",
              "          await google.colab.output.renderOutput(dataTable, element);\n",
              "          const docLink = document.createElement('div');\n",
              "          docLink.innerHTML = docLinkHtml;\n",
              "          element.appendChild(docLink);\n",
              "        }\n",
              "      </script>\n",
              "    </div>\n",
              "  </div>\n",
              "  "
            ]
          },
          "metadata": {},
          "execution_count": 20
        }
      ],
      "source": [
        "df.head(10)"
      ]
    },
    {
      "cell_type": "code",
      "execution_count": null,
      "metadata": {
        "colab": {
          "base_uri": "https://localhost:8080/",
          "height": 300
        },
        "id": "iNM_EdKjC69V",
        "outputId": "c1cd5ca6-d0be-462b-caa7-4db8ae00fe88"
      },
      "outputs": [
        {
          "output_type": "execute_result",
          "data": {
            "text/plain": [
              "             Source   Destination       Length         Info       klabel\n",
              "count  5.918000e+03  5.918000e+03  5918.000000  5918.000000  5918.000000\n",
              "mean   1.921681e+08  1.921681e+08   173.327138  2217.466712     4.791146\n",
              "std    1.508632e+00  1.508408e+00    43.370804   957.282549     2.449623\n",
              "min    1.921681e+08  1.921681e+08    60.000000     0.000000     0.000000\n",
              "25%    1.921681e+08  1.921681e+08   140.000000  1475.250000     3.000000\n",
              "50%    1.921681e+08  1.921681e+08   163.500000  2951.500000     5.500000\n",
              "75%    1.921681e+08  1.921681e+08   187.000000  2960.000000     7.000000\n",
              "max    1.921681e+08  1.921681e+08   283.000000  2967.000000     7.000000"
            ],
            "text/html": [
              "\n",
              "  <div id=\"df-73f3185b-d38b-49fb-bf7d-ad78f21983cc\">\n",
              "    <div class=\"colab-df-container\">\n",
              "      <div>\n",
              "<style scoped>\n",
              "    .dataframe tbody tr th:only-of-type {\n",
              "        vertical-align: middle;\n",
              "    }\n",
              "\n",
              "    .dataframe tbody tr th {\n",
              "        vertical-align: top;\n",
              "    }\n",
              "\n",
              "    .dataframe thead th {\n",
              "        text-align: right;\n",
              "    }\n",
              "</style>\n",
              "<table border=\"1\" class=\"dataframe\">\n",
              "  <thead>\n",
              "    <tr style=\"text-align: right;\">\n",
              "      <th></th>\n",
              "      <th>Source</th>\n",
              "      <th>Destination</th>\n",
              "      <th>Length</th>\n",
              "      <th>Info</th>\n",
              "      <th>klabel</th>\n",
              "    </tr>\n",
              "  </thead>\n",
              "  <tbody>\n",
              "    <tr>\n",
              "      <th>count</th>\n",
              "      <td>5.918000e+03</td>\n",
              "      <td>5.918000e+03</td>\n",
              "      <td>5918.000000</td>\n",
              "      <td>5918.000000</td>\n",
              "      <td>5918.000000</td>\n",
              "    </tr>\n",
              "    <tr>\n",
              "      <th>mean</th>\n",
              "      <td>1.921681e+08</td>\n",
              "      <td>1.921681e+08</td>\n",
              "      <td>173.327138</td>\n",
              "      <td>2217.466712</td>\n",
              "      <td>4.791146</td>\n",
              "    </tr>\n",
              "    <tr>\n",
              "      <th>std</th>\n",
              "      <td>1.508632e+00</td>\n",
              "      <td>1.508408e+00</td>\n",
              "      <td>43.370804</td>\n",
              "      <td>957.282549</td>\n",
              "      <td>2.449623</td>\n",
              "    </tr>\n",
              "    <tr>\n",
              "      <th>min</th>\n",
              "      <td>1.921681e+08</td>\n",
              "      <td>1.921681e+08</td>\n",
              "      <td>60.000000</td>\n",
              "      <td>0.000000</td>\n",
              "      <td>0.000000</td>\n",
              "    </tr>\n",
              "    <tr>\n",
              "      <th>25%</th>\n",
              "      <td>1.921681e+08</td>\n",
              "      <td>1.921681e+08</td>\n",
              "      <td>140.000000</td>\n",
              "      <td>1475.250000</td>\n",
              "      <td>3.000000</td>\n",
              "    </tr>\n",
              "    <tr>\n",
              "      <th>50%</th>\n",
              "      <td>1.921681e+08</td>\n",
              "      <td>1.921681e+08</td>\n",
              "      <td>163.500000</td>\n",
              "      <td>2951.500000</td>\n",
              "      <td>5.500000</td>\n",
              "    </tr>\n",
              "    <tr>\n",
              "      <th>75%</th>\n",
              "      <td>1.921681e+08</td>\n",
              "      <td>1.921681e+08</td>\n",
              "      <td>187.000000</td>\n",
              "      <td>2960.000000</td>\n",
              "      <td>7.000000</td>\n",
              "    </tr>\n",
              "    <tr>\n",
              "      <th>max</th>\n",
              "      <td>1.921681e+08</td>\n",
              "      <td>1.921681e+08</td>\n",
              "      <td>283.000000</td>\n",
              "      <td>2967.000000</td>\n",
              "      <td>7.000000</td>\n",
              "    </tr>\n",
              "  </tbody>\n",
              "</table>\n",
              "</div>\n",
              "      <button class=\"colab-df-convert\" onclick=\"convertToInteractive('df-73f3185b-d38b-49fb-bf7d-ad78f21983cc')\"\n",
              "              title=\"Convert this dataframe to an interactive table.\"\n",
              "              style=\"display:none;\">\n",
              "        \n",
              "  <svg xmlns=\"http://www.w3.org/2000/svg\" height=\"24px\"viewBox=\"0 0 24 24\"\n",
              "       width=\"24px\">\n",
              "    <path d=\"M0 0h24v24H0V0z\" fill=\"none\"/>\n",
              "    <path d=\"M18.56 5.44l.94 2.06.94-2.06 2.06-.94-2.06-.94-.94-2.06-.94 2.06-2.06.94zm-11 1L8.5 8.5l.94-2.06 2.06-.94-2.06-.94L8.5 2.5l-.94 2.06-2.06.94zm10 10l.94 2.06.94-2.06 2.06-.94-2.06-.94-.94-2.06-.94 2.06-2.06.94z\"/><path d=\"M17.41 7.96l-1.37-1.37c-.4-.4-.92-.59-1.43-.59-.52 0-1.04.2-1.43.59L10.3 9.45l-7.72 7.72c-.78.78-.78 2.05 0 2.83L4 21.41c.39.39.9.59 1.41.59.51 0 1.02-.2 1.41-.59l7.78-7.78 2.81-2.81c.8-.78.8-2.07 0-2.86zM5.41 20L4 18.59l7.72-7.72 1.47 1.35L5.41 20z\"/>\n",
              "  </svg>\n",
              "      </button>\n",
              "      \n",
              "  <style>\n",
              "    .colab-df-container {\n",
              "      display:flex;\n",
              "      flex-wrap:wrap;\n",
              "      gap: 12px;\n",
              "    }\n",
              "\n",
              "    .colab-df-convert {\n",
              "      background-color: #E8F0FE;\n",
              "      border: none;\n",
              "      border-radius: 50%;\n",
              "      cursor: pointer;\n",
              "      display: none;\n",
              "      fill: #1967D2;\n",
              "      height: 32px;\n",
              "      padding: 0 0 0 0;\n",
              "      width: 32px;\n",
              "    }\n",
              "\n",
              "    .colab-df-convert:hover {\n",
              "      background-color: #E2EBFA;\n",
              "      box-shadow: 0px 1px 2px rgba(60, 64, 67, 0.3), 0px 1px 3px 1px rgba(60, 64, 67, 0.15);\n",
              "      fill: #174EA6;\n",
              "    }\n",
              "\n",
              "    [theme=dark] .colab-df-convert {\n",
              "      background-color: #3B4455;\n",
              "      fill: #D2E3FC;\n",
              "    }\n",
              "\n",
              "    [theme=dark] .colab-df-convert:hover {\n",
              "      background-color: #434B5C;\n",
              "      box-shadow: 0px 1px 3px 1px rgba(0, 0, 0, 0.15);\n",
              "      filter: drop-shadow(0px 1px 2px rgba(0, 0, 0, 0.3));\n",
              "      fill: #FFFFFF;\n",
              "    }\n",
              "  </style>\n",
              "\n",
              "      <script>\n",
              "        const buttonEl =\n",
              "          document.querySelector('#df-73f3185b-d38b-49fb-bf7d-ad78f21983cc button.colab-df-convert');\n",
              "        buttonEl.style.display =\n",
              "          google.colab.kernel.accessAllowed ? 'block' : 'none';\n",
              "\n",
              "        async function convertToInteractive(key) {\n",
              "          const element = document.querySelector('#df-73f3185b-d38b-49fb-bf7d-ad78f21983cc');\n",
              "          const dataTable =\n",
              "            await google.colab.kernel.invokeFunction('convertToInteractive',\n",
              "                                                     [key], {});\n",
              "          if (!dataTable) return;\n",
              "\n",
              "          const docLinkHtml = 'Like what you see? Visit the ' +\n",
              "            '<a target=\"_blank\" href=https://colab.research.google.com/notebooks/data_table.ipynb>data table notebook</a>'\n",
              "            + ' to learn more about interactive tables.';\n",
              "          element.innerHTML = '';\n",
              "          dataTable['output_type'] = 'display_data';\n",
              "          await google.colab.output.renderOutput(dataTable, element);\n",
              "          const docLink = document.createElement('div');\n",
              "          docLink.innerHTML = docLinkHtml;\n",
              "          element.appendChild(docLink);\n",
              "        }\n",
              "      </script>\n",
              "    </div>\n",
              "  </div>\n",
              "  "
            ]
          },
          "metadata": {},
          "execution_count": 21
        }
      ],
      "source": [
        "df.describe()"
      ]
    },
    {
      "cell_type": "code",
      "execution_count": null,
      "metadata": {
        "colab": {
          "base_uri": "https://localhost:8080/",
          "height": 300
        },
        "id": "7zFHJqsQCDTi",
        "outputId": "0bc445dd-d375-4620-cfe1-65d209da53e7"
      },
      "outputs": [
        {
          "output_type": "display_data",
          "data": {
            "text/plain": [
              "<Figure size 1080x504 with 4 Axes>"
            ],
            "image/png": "[encoded data removed]"
          },
          "metadata": {
            "needs_background": "light"
          }
        }
      ],
      "source": [
        "plt.figure(1 , figsize = (15 , 7))\n",
        "n = 0 \n",
        "for x in ['Info' , 'klabel']:\n",
        "    for y in ['Info' , 'klabel']:\n",
        "        n += 1\n",
        "        plt.subplot(3 , 3 , n)\n",
        "        plt.subplots_adjust(hspace = 0.5 , wspace = 0.5)\n",
        "        sns.regplot(x = x , y = y , data = df)\n",
        "        plt.ylabel(y.split()[0]+' '+y.split()[1] if len(y.split()) > 1 else y )\n",
        "plt.show()"
      ]
    },
    {
      "cell_type": "code",
      "execution_count": null,
      "metadata": {
        "colab": {
          "base_uri": "https://localhost:8080/",
          "height": 302
        },
        "id": "nrPyhXLcCQte",
        "outputId": "31c71adb-8305-4c31-cffb-66d717287414"
      },
      "outputs": [
        {
          "output_type": "display_data",
          "data": {
            "text/plain": [
              "<Figure size 1080x504 with 4 Axes>"
            ],
            "image/png": "[encoded data removed]"
          },
          "metadata": {
            "needs_background": "light"
          }
        }
      ],
      "source": [
        "plt.figure(1 , figsize = (15 , 7))\n",
        "n = 0 \n",
        "for x in ['Length' , 'klabel']:\n",
        "    for y in ['Length' , 'klabel']:\n",
        "        n += 1\n",
        "        plt.subplot(3 , 3 , n)\n",
        "        plt.subplots_adjust(hspace = 0.5 , wspace = 0.5)\n",
        "        sns.regplot(x = x , y = y , data = df)\n",
        "        plt.ylabel(y.split()[0]+' '+y.split()[1] if len(y.split()) > 1 else y )\n",
        "plt.show()"
      ]
    },
    {
      "cell_type": "code",
      "execution_count": null,
      "metadata": {
        "colab": {
          "base_uri": "https://localhost:8080/",
          "height": 284
        },
        "id": "ombf5mKdElp3",
        "outputId": "e0bea242-2f31-4e36-8012-915693d01129"
      },
      "outputs": [
        {
          "output_type": "execute_result",
          "data": {
            "text/plain": [
              "Text(0, 0.5, 'klabel')"
            ]
          },
          "metadata": {},
          "execution_count": 24
        },
        {
          "output_type": "display_data",
          "data": {
            "text/plain": [
              "<Figure size 1728x1440 with 2 Axes>"
            ],
            "image/png": "[encoded data removed]"
          },
          "metadata": {
            "needs_background": "light"
          }
        }
      ],
      "source": [
        "plt.figure(figsize=(24,20))\n",
        "\n",
        "plt.subplot(4, 2, 1)\n",
        "fig = df['Length'].hist(bins=20)\n",
        "fig.set_xlabel('Length')\n",
        "fig.set_ylabel('klabel')\n",
        "\n",
        "plt.subplot(4, 2, 2)\n",
        "fig = df['Info'].hist(bins=20)\n",
        "fig.set_xlabel('Info')\n",
        "fig.set_ylabel('klabel')"
      ]
    },
    {
      "cell_type": "markdown",
      "metadata": {
        "id": "H1J8IUeF_Cmz"
      },
      "source": [
        "# **SVM**"
      ]
    },
    {
      "cell_type": "code",
      "execution_count": null,
      "metadata": {
        "id": "eKWp4WMkztkM"
      },
      "outputs": [],
      "source": [
        "from sklearn.metrics import explained_variance_score\n",
        "from sklearn.model_selection import train_test_split\n",
        "from sklearn.svm import SVC\n",
        "from sklearn.impute import SimpleImputer\n",
        "from sklearn.metrics import accuracy_score"
      ]
    },
    {
      "cell_type": "code",
      "execution_count": null,
      "metadata": {
        "id": "sErVYds2_Gkd"
      },
      "outputs": [],
      "source": [
        "#X = df.drop(columns = ['Source', 'Destination', 'Protocol', 'klabel', 'Time'])\n",
        "X = df.drop(columns = ['Source', 'Destination'])\n",
        "Y = df['klabel']"
      ]
    },
    {
      "cell_type": "code",
      "execution_count": null,
      "metadata": {
        "id": "6ur_5Wva--8s"
      },
      "outputs": [],
      "source": [
        "X_train, X_test, Y_train, Y_test = train_test_split(X, Y, test_size=0.50, random_state=4)\n",
        "\n",
        "imputer = SimpleImputer()\n",
        "X_train = imputer.fit_transform(X_train)\n",
        "X_test = imputer.transform(X_test)"
      ]
    },
    {
      "cell_type": "code",
      "execution_count": null,
      "metadata": {
        "colab": {
          "base_uri": "https://localhost:8080/"
        },
        "id": "Mu0Wcd8b_5QA",
        "outputId": "64d162f9-160b-487e-c43a-f49487e1fdd7"
      },
      "outputs": [
        {
          "output_type": "execute_result",
          "data": {
            "text/plain": [
              "SVC()"
            ]
          },
          "metadata": {},
          "execution_count": 47
        }
      ],
      "source": [
        "model = SVC()\n",
        "model.fit(X_train,Y_train)"
      ]
    },
    {
      "cell_type": "code",
      "execution_count": null,
      "metadata": {
        "colab": {
          "base_uri": "https://localhost:8080/"
        },
        "id": "sCn-YZU__7A9",
        "outputId": "1e8da9ed-83ef-4c6f-d934-cd4875550283"
      },
      "outputs": [
        {
          "output_type": "execute_result",
          "data": {
            "text/plain": [
              "0.9451170253951"
            ]
          },
          "metadata": {},
          "execution_count": 48
        }
      ],
      "source": [
        "pred = model.predict(X_test)\n",
        "explained_variance_score(pred,Y_test)"
      ]
    },
    {
      "cell_type": "code",
      "execution_count": null,
      "metadata": {
        "colab": {
          "base_uri": "https://localhost:8080/"
        },
        "id": "DVbaO-nwACC5",
        "outputId": "2bb722fc-a867-47a7-c59a-d9e2a2126c5e"
      },
      "outputs": [
        {
          "output_type": "execute_result",
          "data": {
            "text/plain": [
              "0.9736397431564717"
            ]
          },
          "metadata": {},
          "execution_count": 49
        }
      ],
      "source": [
        "accuracy_score(pred,Y_test)"
      ]
    },
    {
      "cell_type": "code",
      "execution_count": null,
      "metadata": {
        "colab": {
          "base_uri": "https://localhost:8080/",
          "height": 391
        },
        "id": "GGx3sqUMHYgY",
        "outputId": "3f0600da-35d9-4a5c-8649-50a1ef6b9ace"
      },
      "outputs": [
        {
          "output_type": "execute_result",
          "data": {
            "text/plain": [
              "<matplotlib.axes._subplots.AxesSubplot at 0x7febf04fe7d0>"
            ]
          },
          "metadata": {},
          "execution_count": 50
        },
        {
          "output_type": "display_data",
          "data": {
            "text/plain": [
              "<Figure size 576x432 with 2 Axes>"
            ],
            "image/png": "[encoded data removed]"
          },
          "metadata": {
            "needs_background": "light"
          }
        }
      ],
      "source": [
        "plt.figure(figsize = (8, 6))\n",
        "sns.heatmap(confusion_matrix(Y_test,pred), annot = True)"
      ]
    },
    {
      "cell_type": "code",
      "execution_count": null,
      "metadata": {
        "colab": {
          "base_uri": "https://localhost:8080/"
        },
        "id": "dGFLgmCLFpLY",
        "outputId": "995ff47a-932d-4f0e-8615-1f0952a6935d"
      },
      "outputs": [
        {
          "output_type": "stream",
          "name": "stdout",
          "text": [
            "[[ 165    0    0    0    4    0    0    0]\n",
            " [   5  175    0    0    0    0    0    0]\n",
            " [   0    0  308    0    0    0    0    0]\n",
            " [   0    0    0  380    0    0    0   57]\n",
            " [   0    0    0    0  180    5    0    0]\n",
            " [   0    0    0    0    0  184    0    0]\n",
            " [   0    0    0    0    0    0    0    7]\n",
            " [   0    0    0    0    0    0    0 1489]]\n",
            "\n",
            "\n",
            "classification report\n",
            "\n",
            "              precision    recall  f1-score   support\n",
            "\n",
            "           0       0.97      0.98      0.97       169\n",
            "           1       1.00      0.97      0.99       180\n",
            "           2       1.00      1.00      1.00       308\n",
            "           3       1.00      0.87      0.93       437\n",
            "           4       0.98      0.97      0.98       185\n",
            "           5       0.97      1.00      0.99       184\n",
            "           6       0.00      0.00      0.00         7\n",
            "           7       0.96      1.00      0.98      1489\n",
            "\n",
            "    accuracy                           0.97      2959\n",
            "   macro avg       0.86      0.85      0.85      2959\n",
            "weighted avg       0.97      0.97      0.97      2959\n",
            "\n"
          ]
        },
        {
          "output_type": "stream",
          "name": "stderr",
          "text": [
            "/usr/local/lib/python3.7/dist-packages/sklearn/metrics/_classification.py:1318: UndefinedMetricWarning: Precision and F-score are ill-defined and being set to 0.0 in labels with no predicted samples. Use `zero_division` parameter to control this behavior.\n",
            "  _warn_prf(average, modifier, msg_start, len(result))\n",
            "/usr/local/lib/python3.7/dist-packages/sklearn/metrics/_classification.py:1318: UndefinedMetricWarning: Precision and F-score are ill-defined and being set to 0.0 in labels with no predicted samples. Use `zero_division` parameter to control this behavior.\n",
            "  _warn_prf(average, modifier, msg_start, len(result))\n",
            "/usr/local/lib/python3.7/dist-packages/sklearn/metrics/_classification.py:1318: UndefinedMetricWarning: Precision and F-score are ill-defined and being set to 0.0 in labels with no predicted samples. Use `zero_division` parameter to control this behavior.\n",
            "  _warn_prf(average, modifier, msg_start, len(result))\n"
          ]
        }
      ],
      "source": [
        "print(confusion_matrix(Y_test,pred))\n",
        "\n",
        "print('\\n\\nclassification report\\n')\n",
        "print(classification_report(Y_test,pred))"
      ]
    }
  ],
  "metadata": {
    "colab": {
      "collapsed_sections": [],
      "name": "TA DZUL FINAL INI MAH.ipynb",
      "provenance": []
    },
    "kernelspec": {
      "display_name": "Python 3",
      "language": "python",
      "name": "python3"
    },
    "language_info": {
      "codemirror_mode": {
        "name": "ipython",
        "version": 3
      },
      "file_extension": ".py",
      "mimetype": "text/x-python",
      "name": "python",
      "nbconvert_exporter": "python",
      "pygments_lexer": "ipython3",
      "version": "3.6.4"
    }
  },
  "nbformat": 4,
  "nbformat_minor": 0
}